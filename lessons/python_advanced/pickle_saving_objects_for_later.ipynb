{
 "cells": [
  {
   "cell_type": "code",
   "execution_count": 1,
   "metadata": {},
   "outputs": [
    {
     "name": "stdout",
     "output_type": "stream",
     "text": [
      "Python Version: 3.6.10 |Anaconda, Inc.| (default, May  7 2020, 23:06:31) \n",
      "[GCC 4.2.1 Compatible Clang 4.0.1 (tags/RELEASE_401/final)] \n",
      "\n"
     ]
    }
   ],
   "source": [
    "import sys\n",
    "print(\"Python Version:\", sys.version, '\\n')"
   ]
  },
  {
   "cell_type": "markdown",
   "metadata": {},
   "source": [
    "# Pickle: Saving Objects for Later"
   ]
  },
  {
   "cell_type": "markdown",
   "metadata": {},
   "source": [
    "Often in data science, we'll create some model or some version of our data and want to use it later. We have many options - we can save the coefficients, or save the data to csv, or...\n",
    "\n",
    "Actually, we don't have that many options. \n",
    "\n",
    "One way to overcome that is to save the python object to a file as a serialized object. That means we convert the entire object to a bunch of bytes, save those bytes into a file, and then have the ability to unpack those bytes back into their original format later. \n",
    "\n",
    "This is done by a module called `pickle`. Let's see it in action."
   ]
  },
  {
   "cell_type": "code",
   "execution_count": 2,
   "metadata": {},
   "outputs": [],
   "source": [
    "import pickle\n",
    "import random\n",
    "\n",
    "lots_of_noise = {\n",
    "    'CA': [random.randint(0,65) for _ in range(100)],\n",
    "    'IL': [random.randint(0,65) for _ in range(50)],\n",
    "    'NY': [random.randint(0,65) for _ in range(90)],\n",
    "    'WA': [random.randint(0,65) for _ in range(33)]\n",
    "}"
   ]
  },
  {
   "cell_type": "code",
   "execution_count": 3,
   "metadata": {},
   "outputs": [
    {
     "name": "stdout",
     "output_type": "stream",
     "text": [
      "{'CA': [44, 58, 62, 26, 45, 1, 57, 43, 11, 60, 22, 50, 19, 54, 50, 26, 53, 14, 51, 55, 26, 64, 41, 65, 30, 28, 22, 31, 42, 22, 28, 12, 27, 49, 0, 28, 7, 12, 23, 64, 18, 26, 15, 4, 8, 6, 11, 40, 14, 7, 6, 45, 31, 28, 45, 43, 16, 26, 48, 63, 7, 55, 31, 42, 18, 5, 46, 24, 59, 30, 28, 50, 7, 60, 33, 19, 1, 60, 13, 42, 18, 18, 64, 20, 51, 51, 0, 21, 12, 15, 5, 13, 62, 41, 56, 51, 37, 9, 4, 57], 'IL': [42, 39, 30, 64, 20, 53, 55, 40, 17, 32, 20, 28, 63, 29, 34, 61, 51, 10, 22, 41, 25, 10, 54, 38, 22, 39, 23, 59, 34, 49, 44, 54, 64, 9, 64, 3, 10, 29, 15, 28, 13, 13, 43, 9, 65, 45, 52, 31, 15, 35], 'NY': [1, 47, 33, 65, 34, 17, 34, 14, 37, 38, 62, 19, 38, 51, 46, 56, 57, 19, 24, 9, 40, 34, 34, 34, 54, 28, 25, 61, 20, 56, 61, 15, 63, 31, 0, 18, 37, 10, 54, 24, 65, 41, 25, 52, 12, 19, 63, 42, 62, 62, 7, 20, 15, 47, 43, 12, 49, 27, 39, 59, 53, 10, 59, 6, 2, 44, 51, 56, 52, 0, 4, 5, 31, 52, 27, 6, 41, 19, 45, 60, 33, 54, 29, 0, 38, 36, 35, 24, 40, 65], 'WA': [43, 14, 21, 40, 53, 3, 28, 15, 31, 63, 65, 18, 33, 33, 25, 34, 3, 60, 7, 18, 42, 9, 58, 23, 63, 1, 11, 44, 48, 9, 8, 51, 41]}\n"
     ]
    }
   ],
   "source": [
    "print(lots_of_noise)"
   ]
  },
  {
   "cell_type": "code",
   "execution_count": 4,
   "metadata": {},
   "outputs": [
    {
     "name": "stdout",
     "output_type": "stream",
     "text": [
      "Variable        Type      Data/Info\n",
      "-----------------------------------\n",
      "lots_of_noise   dict      n=4\n",
      "pickle          module    <module 'pickle' from '/U<...>lib/python3.6/pickle.py'>\n",
      "random          module    <module 'random' from '/U<...>lib/python3.6/random.py'>\n",
      "sys             module    <module 'sys' (built-in)>\n"
     ]
    }
   ],
   "source": [
    "whos"
   ]
  },
  {
   "cell_type": "markdown",
   "metadata": {},
   "source": [
    "We can see in this `whos` command that the object `lots_of_noise` exists and is a `dict` with 4 keys. Nice. Now let's look at our file system and verify that there isn't a file called `noise.pickle`."
   ]
  },
  {
   "cell_type": "code",
   "execution_count": 5,
   "metadata": {},
   "outputs": [
    {
     "name": "stdout",
     "output_type": "stream",
     "text": [
      "advanced_python_datatypes.ipynb       my_dataframe.pickle\r\n",
      "complexity.md                         noise.pickle\r\n",
      "deep_and_shallow_copy.ipynb           pickle_saving_objects_for_later.ipynb\r\n",
      "\u001b[34mdeep_copy_demo\u001b[m\u001b[m                        readme.md\r\n"
     ]
    }
   ],
   "source": [
    "!ls"
   ]
  },
  {
   "cell_type": "markdown",
   "metadata": {},
   "source": [
    "Okay, now we're ready to create a file and write the bytes to it. To do this with `pickle`, we use python's read-write streamer `open` and create a writable-binary (`wb`) file. We'll then use `pickle.dump` to put an object into that file as a string of bytes."
   ]
  },
  {
   "cell_type": "code",
   "execution_count": 6,
   "metadata": {},
   "outputs": [],
   "source": [
    "with open('noise_amg_20200605.pickle', 'wb') as to_write:\n",
    "    pickle.dump(lots_of_noise, to_write)"
   ]
  },
  {
   "cell_type": "code",
   "execution_count": 7,
   "metadata": {},
   "outputs": [
    {
     "name": "stdout",
     "output_type": "stream",
     "text": [
      "advanced_python_datatypes.ipynb       noise.pickle\r\n",
      "complexity.md                         noise_amg_20200605.pickle\r\n",
      "deep_and_shallow_copy.ipynb           pickle_saving_objects_for_later.ipynb\r\n",
      "\u001b[34mdeep_copy_demo\u001b[m\u001b[m                        readme.md\r\n",
      "my_dataframe.pickle\r\n"
     ]
    }
   ],
   "source": [
    "!ls"
   ]
  },
  {
   "cell_type": "markdown",
   "metadata": {},
   "source": [
    "Now let's delete `lots_of_noise` and prove to ourselves it doesn't exist in Python's memory anymore."
   ]
  },
  {
   "cell_type": "code",
   "execution_count": 8,
   "metadata": {},
   "outputs": [],
   "source": [
    "del lots_of_noise"
   ]
  },
  {
   "cell_type": "code",
   "execution_count": 9,
   "metadata": {},
   "outputs": [
    {
     "name": "stdout",
     "output_type": "stream",
     "text": [
      "Variable   Type              Data/Info\n",
      "--------------------------------------\n",
      "pickle     module            <module 'pickle' from '/U<...>lib/python3.6/pickle.py'>\n",
      "random     module            <module 'random' from '/U<...>lib/python3.6/random.py'>\n",
      "sys        module            <module 'sys' (built-in)>\n",
      "to_write   BufferedWriter    <_io.BufferedWriter name=<...>ise_amg_20200605.pickle'>\n"
     ]
    }
   ],
   "source": [
    "whos"
   ]
  },
  {
   "cell_type": "code",
   "execution_count": 10,
   "metadata": {},
   "outputs": [
    {
     "ename": "NameError",
     "evalue": "name 'lots_of_noise' is not defined",
     "output_type": "error",
     "traceback": [
      "\u001b[0;31m---------------------------------------------------------------------------\u001b[0m",
      "\u001b[0;31mNameError\u001b[0m                                 Traceback (most recent call last)",
      "\u001b[0;32m<ipython-input-10-69f22b4d5ca8>\u001b[0m in \u001b[0;36m<module>\u001b[0;34m\u001b[0m\n\u001b[0;32m----> 1\u001b[0;31m \u001b[0mprint\u001b[0m\u001b[0;34m(\u001b[0m\u001b[0mlots_of_noise\u001b[0m\u001b[0;34m)\u001b[0m\u001b[0;34m\u001b[0m\u001b[0;34m\u001b[0m\u001b[0m\n\u001b[0m",
      "\u001b[0;31mNameError\u001b[0m: name 'lots_of_noise' is not defined"
     ]
    }
   ],
   "source": [
    "print(lots_of_noise)"
   ]
  },
  {
   "cell_type": "markdown",
   "metadata": {},
   "source": [
    "Lovely. It's dead forever. Or is it?\n",
    "\n",
    "Let's open that `noise.pickle` file with read-binary (`rb`) mode. Then we'll ask pickle to retrieve the file with `pickle.load` and store it back in a variable."
   ]
  },
  {
   "cell_type": "code",
   "execution_count": 11,
   "metadata": {},
   "outputs": [],
   "source": [
    "with open('noise_amg_20200605.pickle','rb') as read_file:\n",
    "    new_noise = pickle.load(read_file)"
   ]
  },
  {
   "cell_type": "code",
   "execution_count": 12,
   "metadata": {},
   "outputs": [
    {
     "name": "stdout",
     "output_type": "stream",
     "text": [
      "{'CA': [44, 58, 62, 26, 45, 1, 57, 43, 11, 60, 22, 50, 19, 54, 50, 26, 53, 14, 51, 55, 26, 64, 41, 65, 30, 28, 22, 31, 42, 22, 28, 12, 27, 49, 0, 28, 7, 12, 23, 64, 18, 26, 15, 4, 8, 6, 11, 40, 14, 7, 6, 45, 31, 28, 45, 43, 16, 26, 48, 63, 7, 55, 31, 42, 18, 5, 46, 24, 59, 30, 28, 50, 7, 60, 33, 19, 1, 60, 13, 42, 18, 18, 64, 20, 51, 51, 0, 21, 12, 15, 5, 13, 62, 41, 56, 51, 37, 9, 4, 57], 'IL': [42, 39, 30, 64, 20, 53, 55, 40, 17, 32, 20, 28, 63, 29, 34, 61, 51, 10, 22, 41, 25, 10, 54, 38, 22, 39, 23, 59, 34, 49, 44, 54, 64, 9, 64, 3, 10, 29, 15, 28, 13, 13, 43, 9, 65, 45, 52, 31, 15, 35], 'NY': [1, 47, 33, 65, 34, 17, 34, 14, 37, 38, 62, 19, 38, 51, 46, 56, 57, 19, 24, 9, 40, 34, 34, 34, 54, 28, 25, 61, 20, 56, 61, 15, 63, 31, 0, 18, 37, 10, 54, 24, 65, 41, 25, 52, 12, 19, 63, 42, 62, 62, 7, 20, 15, 47, 43, 12, 49, 27, 39, 59, 53, 10, 59, 6, 2, 44, 51, 56, 52, 0, 4, 5, 31, 52, 27, 6, 41, 19, 45, 60, 33, 54, 29, 0, 38, 36, 35, 24, 40, 65], 'WA': [43, 14, 21, 40, 53, 3, 28, 15, 31, 63, 65, 18, 33, 33, 25, 34, 3, 60, 7, 18, 42, 9, 58, 23, 63, 1, 11, 44, 48, 9, 8, 51, 41]}\n"
     ]
    }
   ],
   "source": [
    "print(new_noise)"
   ]
  },
  {
   "cell_type": "code",
   "execution_count": 13,
   "metadata": {},
   "outputs": [
    {
     "name": "stdout",
     "output_type": "stream",
     "text": [
      "Variable    Type              Data/Info\n",
      "---------------------------------------\n",
      "new_noise   dict              n=4\n",
      "pickle      module            <module 'pickle' from '/U<...>lib/python3.6/pickle.py'>\n",
      "random      module            <module 'random' from '/U<...>lib/python3.6/random.py'>\n",
      "read_file   BufferedReader    <_io.BufferedReader name=<...>ise_amg_20200605.pickle'>\n",
      "sys         module            <module 'sys' (built-in)>\n",
      "to_write    BufferedWriter    <_io.BufferedWriter name=<...>ise_amg_20200605.pickle'>\n"
     ]
    }
   ],
   "source": [
    "whos"
   ]
  },
  {
   "cell_type": "markdown",
   "metadata": {},
   "source": [
    "Random noise lives! We retrieved the entire structure from file. Nice."
   ]
  },
  {
   "cell_type": "markdown",
   "metadata": {},
   "source": [
    "### Okay, but I don't use dictionaries... I use pandas."
   ]
  },
  {
   "cell_type": "code",
   "execution_count": 14,
   "metadata": {},
   "outputs": [
    {
     "data": {
      "text/html": [
       "<div>\n",
       "<style scoped>\n",
       "    .dataframe tbody tr th:only-of-type {\n",
       "        vertical-align: middle;\n",
       "    }\n",
       "\n",
       "    .dataframe tbody tr th {\n",
       "        vertical-align: top;\n",
       "    }\n",
       "\n",
       "    .dataframe thead th {\n",
       "        text-align: right;\n",
       "    }\n",
       "</style>\n",
       "<table border=\"1\" class=\"dataframe\">\n",
       "  <thead>\n",
       "    <tr style=\"text-align: right;\">\n",
       "      <th></th>\n",
       "      <th>Yay</th>\n",
       "      <th>specific</th>\n",
       "      <th>column</th>\n",
       "      <th>names</th>\n",
       "    </tr>\n",
       "  </thead>\n",
       "  <tbody>\n",
       "    <tr>\n",
       "      <th>0</th>\n",
       "      <td>-9.093665</td>\n",
       "      <td>2.975617</td>\n",
       "      <td>-9.898300</td>\n",
       "      <td>-9.856989</td>\n",
       "    </tr>\n",
       "    <tr>\n",
       "      <th>1</th>\n",
       "      <td>9.413093</td>\n",
       "      <td>7.476043</td>\n",
       "      <td>-4.224505</td>\n",
       "      <td>8.450999</td>\n",
       "    </tr>\n",
       "    <tr>\n",
       "      <th>2</th>\n",
       "      <td>1.456950</td>\n",
       "      <td>2.784323</td>\n",
       "      <td>2.546808</td>\n",
       "      <td>8.117674</td>\n",
       "    </tr>\n",
       "    <tr>\n",
       "      <th>3</th>\n",
       "      <td>-8.044935</td>\n",
       "      <td>8.977760</td>\n",
       "      <td>-1.166811</td>\n",
       "      <td>8.635302</td>\n",
       "    </tr>\n",
       "    <tr>\n",
       "      <th>4</th>\n",
       "      <td>6.997672</td>\n",
       "      <td>-6.460597</td>\n",
       "      <td>-9.226879</td>\n",
       "      <td>-2.483430</td>\n",
       "    </tr>\n",
       "  </tbody>\n",
       "</table>\n",
       "</div>"
      ],
      "text/plain": [
       "        Yay  specific    column     names\n",
       "0 -9.093665  2.975617 -9.898300 -9.856989\n",
       "1  9.413093  7.476043 -4.224505  8.450999\n",
       "2  1.456950  2.784323  2.546808  8.117674\n",
       "3 -8.044935  8.977760 -1.166811  8.635302\n",
       "4  6.997672 -6.460597 -9.226879 -2.483430"
      ]
     },
     "execution_count": 14,
     "metadata": {},
     "output_type": "execute_result"
    }
   ],
   "source": [
    "import pandas as pd\n",
    "import numpy as np\n",
    "\n",
    "df = pd.DataFrame(np.random.uniform(-10,10, size=(100,4)), columns=['Yay','specific','column','names'])\n",
    "df.head(5)"
   ]
  },
  {
   "cell_type": "code",
   "execution_count": null,
   "metadata": {},
   "outputs": [],
   "source": [
    "with open('my_dataframe_amg_20200605.pickle', 'wb') as to_write:\n",
    "    pickle.dump(df, to_write)"
   ]
  },
  {
   "cell_type": "code",
   "execution_count": null,
   "metadata": {},
   "outputs": [],
   "source": [
    "del df\n",
    "\n",
    "df.head(5)"
   ]
  },
  {
   "cell_type": "code",
   "execution_count": null,
   "metadata": {},
   "outputs": [],
   "source": [
    "with open('my_dataframe.pickle','rb') as read_file:\n",
    "    new_df = pickle.load(read_file)\n",
    "    \n",
    "new_df.head(5)"
   ]
  },
  {
   "cell_type": "markdown",
   "metadata": {},
   "source": [
    "Pickle is a great tool. One recommended way of using it is to make it an end point of every step in your process. Example:\n",
    "\n",
    "* I got my data! Nice. Pickle it and stop your \"getting the data\" notebook.\n",
    "* Load your data from pickle. Clean it. Save your clean data to a new pickle.\n",
    "* Load your cleaned_data pickle. Do analysis and visualize it.\n",
    "\n",
    "This can provide natural \"pick-up-where-I-left-off-but-before-I-broke-my-data\" points. It's a great way to control the flow of your data.\n",
    "\n",
    "#### Resources\n",
    "\n",
    "https://docs.python.org/3.7/library/pickle.html"
   ]
  },
  {
   "cell_type": "code",
   "execution_count": null,
   "metadata": {},
   "outputs": [],
   "source": []
  }
 ],
 "metadata": {
  "kernelspec": {
   "display_name": "Python 3",
   "language": "python",
   "name": "python3"
  },
  "language_info": {
   "codemirror_mode": {
    "name": "ipython",
    "version": 3
   },
   "file_extension": ".py",
   "mimetype": "text/x-python",
   "name": "python",
   "nbconvert_exporter": "python",
   "pygments_lexer": "ipython3",
   "version": "3.6.10"
  }
 },
 "nbformat": 4,
 "nbformat_minor": 1
}
