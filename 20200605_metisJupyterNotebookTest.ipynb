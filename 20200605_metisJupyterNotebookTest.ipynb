{
 "cells": [
  {
   "cell_type": "code",
   "execution_count": 1,
   "metadata": {},
   "outputs": [
    {
     "name": "stdout",
     "output_type": "stream",
     "text": [
      "/Users/adamgifford/Documents/Metis\r\n"
     ]
    }
   ],
   "source": [
    "!pwd"
   ]
  },
  {
   "cell_type": "code",
   "execution_count": 2,
   "metadata": {},
   "outputs": [
    {
     "name": "stdout",
     "output_type": "stream",
     "text": [
      "Python 3.6.8 :: Anaconda, Inc.\r\n"
     ]
    }
   ],
   "source": [
    "!python --version"
   ]
  },
  {
   "cell_type": "code",
   "execution_count": 3,
   "metadata": {},
   "outputs": [
    {
     "name": "stdout",
     "output_type": "stream",
     "text": [
      "hello world\n"
     ]
    }
   ],
   "source": [
    "print('hello world')"
   ]
  },
  {
   "cell_type": "code",
   "execution_count": 5,
   "metadata": {},
   "outputs": [],
   "source": [
    "#Include the following two lines in your notebooks so the graphs are viewable.\n",
    "%matplotlib inline\n",
    "import matplotlib.pyplot as plt"
   ]
  },
  {
   "cell_type": "raw",
   "metadata": {},
   "source": [
    "terminal_editor    open_a_file    edit_a_file    save_a_file        exit_a_file\n",
    "nano\t           nano filen.py  [just type]\t ctrl + o, enter\tctrl + x\n",
    "vim, vi\t           vim filen.py\t  [just type]\t esc :w, enter\t    esc :q, enter\n",
    "emacs\t           emacs filen.py [just type]\t ctrl-x, xtrl-s\t    ctrl-x, ctrl-c"
   ]
  },
  {
   "cell_type": "code",
   "execution_count": 2,
   "metadata": {},
   "outputs": [
    {
     "data": {
      "text/plain": [
       "'python_review_and_best_practices'"
      ]
     },
     "execution_count": 2,
     "metadata": {},
     "output_type": "execute_result"
    }
   ],
   "source": [
    "\"\"\"python_review_and_best_practices\"\"\""
   ]
  },
  {
   "cell_type": "code",
   "execution_count": 3,
   "metadata": {},
   "outputs": [
    {
     "name": "stdout",
     "output_type": "stream",
     "text": [
      "Python Version: 3.6.10 |Anaconda, Inc.| (default, May  7 2020, 23:06:31) \n",
      "[GCC 4.2.1 Compatible Clang 4.0.1 (tags/RELEASE_401/final)] \n",
      "\n"
     ]
    }
   ],
   "source": [
    "import sys\n",
    "print(\"Python Version:\", sys.version, '\\n')"
   ]
  },
  {
   "cell_type": "code",
   "execution_count": 4,
   "metadata": {},
   "outputs": [
    {
     "name": "stdout",
     "output_type": "stream",
     "text": [
      "Integer (int):  <class 'int'>\n",
      "Float (float):  <class 'float'>\n",
      "String (str):  <class 'str'>\n",
      "Boolean (bool):  <class 'bool'>\n"
     ]
    }
   ],
   "source": [
    "print(\"Integer (int): \", type(1))\n",
    "print(\"Float (float): \", type(1.5))\n",
    "print(\"String (str): \", type(\"test\"))\n",
    "print(\"Boolean (bool): \", type(True))"
   ]
  },
  {
   "cell_type": "code",
   "execution_count": 5,
   "metadata": {},
   "outputs": [
    {
     "name": "stdout",
     "output_type": "stream",
     "text": [
      "(1, 2, 'bob', 19, 'eleventeen', 37)\n"
     ]
    }
   ],
   "source": [
    "example_tuple = (1, 2, \"bob\", 19, \"eleventeen\", 37)\n",
    "print(example_tuple)"
   ]
  },
  {
   "cell_type": "code",
   "execution_count": 6,
   "metadata": {},
   "outputs": [
    {
     "name": "stdout",
     "output_type": "stream",
     "text": [
      "1\n",
      "bob\n"
     ]
    }
   ],
   "source": [
    "print(example_tuple[0]) # Remember, Python starts at 0 index\n",
    "print(example_tuple[2])"
   ]
  },
  {
   "cell_type": "raw",
   "metadata": {},
   "source": [
    "# short version\n",
    "name_of_object_to_slice[start:stop:step] \n",
    "\n",
    "# longer version\n",
    "name_of_object_to_slice[start_index : up_to_but_not_this_index : how many steps between returns]"
   ]
  },
  {
   "cell_type": "code",
   "execution_count": 7,
   "metadata": {},
   "outputs": [
    {
     "name": "stdout",
     "output_type": "stream",
     "text": [
      "(2, 'bob', 19)\n"
     ]
    }
   ],
   "source": [
    "# Note that we only get 3 total things, indexes 1, 2, 3\n",
    "print(example_tuple[1:4])"
   ]
  },
  {
   "cell_type": "code",
   "execution_count": 8,
   "metadata": {},
   "outputs": [
    {
     "name": "stdout",
     "output_type": "stream",
     "text": [
      "(1, 'bob', 'eleventeen')\n"
     ]
    }
   ],
   "source": [
    "# Let's go beginning to end, but skip by 2's \n",
    "# (if start is empty, assumes 0. If end is empty, assumes last value)\n",
    "print(example_tuple[::2])"
   ]
  },
  {
   "cell_type": "code",
   "execution_count": 9,
   "metadata": {},
   "outputs": [
    {
     "name": "stdout",
     "output_type": "stream",
     "text": [
      "('eleventeen', 37)\n",
      "37\n"
     ]
    }
   ],
   "source": [
    "# Grabbing the last 2 digits\n",
    "print(example_tuple[-2:])\n",
    "print(example_tuple[-1])"
   ]
  },
  {
   "cell_type": "code",
   "execution_count": 10,
   "metadata": {},
   "outputs": [
    {
     "ename": "TypeError",
     "evalue": "'tuple' object does not support item assignment",
     "output_type": "error",
     "traceback": [
      "\u001b[0;31m---------------------------------------------------------------------------\u001b[0m",
      "\u001b[0;31mTypeError\u001b[0m                                 Traceback (most recent call last)",
      "\u001b[0;32m<ipython-input-10-2dd689f3fb0b>\u001b[0m in \u001b[0;36m<module>\u001b[0;34m\u001b[0m\n\u001b[0;32m----> 1\u001b[0;31m \u001b[0mexample_tuple\u001b[0m\u001b[0;34m[\u001b[0m\u001b[0;36m1\u001b[0m\u001b[0;34m]\u001b[0m \u001b[0;34m=\u001b[0m \u001b[0;36m7\u001b[0m\u001b[0;34m\u001b[0m\u001b[0;34m\u001b[0m\u001b[0m\n\u001b[0m",
      "\u001b[0;31mTypeError\u001b[0m: 'tuple' object does not support item assignment"
     ]
    }
   ],
   "source": [
    "example_tuple[1] = 7"
   ]
  },
  {
   "cell_type": "code",
   "execution_count": 11,
   "metadata": {},
   "outputs": [
    {
     "name": "stdout",
     "output_type": "stream",
     "text": [
      "[1, 2, 3, 4, 5, 6, 7, 8]\n"
     ]
    }
   ],
   "source": [
    "example_list = [1,2,3,4,5,6,7,8]\n",
    "print(example_list)"
   ]
  },
  {
   "cell_type": "code",
   "execution_count": 12,
   "metadata": {},
   "outputs": [
    {
     "name": "stdout",
     "output_type": "stream",
     "text": [
      "[1, 2, 3, 4]\n"
     ]
    }
   ],
   "source": [
    "print(example_list[0:4])"
   ]
  },
  {
   "cell_type": "code",
   "execution_count": 13,
   "metadata": {},
   "outputs": [
    {
     "name": "stdout",
     "output_type": "stream",
     "text": [
      "['DIFFERENT NOW', 2, 3, 4, 5, 6, 7, 8]\n"
     ]
    }
   ],
   "source": [
    "example_list[0] = 'DIFFERENT NOW'\n",
    "print(example_list)"
   ]
  },
  {
   "cell_type": "raw",
   "metadata": {},
   "source": [
    "It's tempting to just always use lists for everything. Please don't. Lists are a great catch-all, but whenever you're loading a row of data or just need to put the data somewhere and then use it again later, tuples are a better choice because they are immutable and you can't really \"break\" the data as easily."
   ]
  },
  {
   "cell_type": "code",
   "execution_count": 14,
   "metadata": {},
   "outputs": [
    {
     "name": "stdout",
     "output_type": "stream",
     "text": [
      "('DIFFERENT NOW', 2, 3, 4, 5, 6, 7, 8)\n",
      "<class 'tuple'>\n"
     ]
    }
   ],
   "source": [
    "new_tuple = tuple(example_list)\n",
    "print(new_tuple)\n",
    "print(type(new_tuple))"
   ]
  },
  {
   "cell_type": "code",
   "execution_count": 15,
   "metadata": {},
   "outputs": [
    {
     "name": "stdout",
     "output_type": "stream",
     "text": [
      "[1, 2, 'bob', 19, 'eleventeen', 37]\n",
      "<class 'list'>\n"
     ]
    }
   ],
   "source": [
    "new_list = list(example_tuple)\n",
    "print(new_list)\n",
    "print(type(new_list))"
   ]
  },
  {
   "cell_type": "code",
   "execution_count": 16,
   "metadata": {},
   "outputs": [
    {
     "name": "stdout",
     "output_type": "stream",
     "text": [
      "[1, 2, 'bob', 19, 'eleventeen', 37, 'NEW DATA']\n"
     ]
    }
   ],
   "source": [
    "# Let's add some data to the list\n",
    "new_list.append(\"NEW DATA\")\n",
    "print(new_list)"
   ]
  },
  {
   "cell_type": "code",
   "execution_count": 17,
   "metadata": {},
   "outputs": [
    {
     "name": "stdout",
     "output_type": "stream",
     "text": [
      "NEW DATA\n",
      "[1, 2, 'bob', 19, 'eleventeen', 37]\n"
     ]
    }
   ],
   "source": [
    "# Remove data piece\n",
    "print(new_list.pop())\n",
    "print(new_list)"
   ]
  },
  {
   "cell_type": "code",
   "execution_count": 18,
   "metadata": {},
   "outputs": [
    {
     "name": "stdout",
     "output_type": "stream",
     "text": [
      "{0, 1, 2, 5, 6, 8}\n"
     ]
    }
   ],
   "source": [
    "list_to_be_made_a_set = [1,1,1,1,5,2,6,8,0]\n",
    "set_from_list = set(list_to_be_made_a_set)\n",
    "print(set_from_list)"
   ]
  },
  {
   "cell_type": "code",
   "execution_count": 19,
   "metadata": {},
   "outputs": [
    {
     "name": "stdout",
     "output_type": "stream",
     "text": [
      "Union:  {0, 1, 2, 3, 4, 5, 6, 7}\n",
      "Intersect:  {2, 3, 4}\n"
     ]
    }
   ],
   "source": [
    "set_A = {0,1,2,3,4}\n",
    "set_B = {2,3,4,5,6,7}\n",
    "\n",
    "print(\"Union: \", set_A.union(set_B))\n",
    "print(\"Intersect: \", set_A.intersection(set_B))"
   ]
  },
  {
   "cell_type": "code",
   "execution_count": 20,
   "metadata": {},
   "outputs": [
    {
     "ename": "TypeError",
     "evalue": "'set' object does not support indexing",
     "output_type": "error",
     "traceback": [
      "\u001b[0;31m---------------------------------------------------------------------------\u001b[0m",
      "\u001b[0;31mTypeError\u001b[0m                                 Traceback (most recent call last)",
      "\u001b[0;32m<ipython-input-20-425cb2b93b63>\u001b[0m in \u001b[0;36m<module>\u001b[0;34m\u001b[0m\n\u001b[1;32m      1\u001b[0m \u001b[0;31m# We can't adjust sets or look up a single element\u001b[0m\u001b[0;34m\u001b[0m\u001b[0;34m\u001b[0m\u001b[0;34m\u001b[0m\u001b[0m\n\u001b[0;32m----> 2\u001b[0;31m \u001b[0mset_A\u001b[0m\u001b[0;34m[\u001b[0m\u001b[0;36m3\u001b[0m\u001b[0;34m]\u001b[0m\u001b[0;34m\u001b[0m\u001b[0;34m\u001b[0m\u001b[0m\n\u001b[0m",
      "\u001b[0;31mTypeError\u001b[0m: 'set' object does not support indexing"
     ]
    }
   ],
   "source": [
    "# We can't adjust sets or look up a single element\n",
    "set_A[3]"
   ]
  },
  {
   "cell_type": "code",
   "execution_count": 21,
   "metadata": {},
   "outputs": [
    {
     "ename": "TypeError",
     "evalue": "'set' object does not support item assignment",
     "output_type": "error",
     "traceback": [
      "\u001b[0;31m---------------------------------------------------------------------------\u001b[0m",
      "\u001b[0;31mTypeError\u001b[0m                                 Traceback (most recent call last)",
      "\u001b[0;32m<ipython-input-21-5003309c4214>\u001b[0m in \u001b[0;36m<module>\u001b[0;34m\u001b[0m\n\u001b[0;32m----> 1\u001b[0;31m \u001b[0mset_A\u001b[0m\u001b[0;34m[\u001b[0m\u001b[0;36m3\u001b[0m\u001b[0;34m]\u001b[0m \u001b[0;34m=\u001b[0m \u001b[0;36m7\u001b[0m\u001b[0;34m\u001b[0m\u001b[0;34m\u001b[0m\u001b[0m\n\u001b[0m",
      "\u001b[0;31mTypeError\u001b[0m: 'set' object does not support item assignment"
     ]
    }
   ],
   "source": [
    "set_A[3] = 7"
   ]
  },
  {
   "cell_type": "code",
   "execution_count": 22,
   "metadata": {},
   "outputs": [
    {
     "name": "stdout",
     "output_type": "stream",
     "text": [
      "3\n"
     ]
    }
   ],
   "source": [
    "new_dictionary = {'key_for_this_thing': 3}\n",
    "print(new_dictionary['key_for_this_thing'])"
   ]
  },
  {
   "cell_type": "code",
   "execution_count": 23,
   "metadata": {},
   "outputs": [
    {
     "name": "stdout",
     "output_type": "stream",
     "text": [
      "[0, 1, 2, 3, 4]\n"
     ]
    }
   ],
   "source": [
    "new_dictionary = {'key_for_a_list': [0,1,2,3,4], 'key_for_another_dictionary': {'bob': 1}}\n",
    "print(new_dictionary['key_for_a_list'])"
   ]
  },
  {
   "cell_type": "code",
   "execution_count": 24,
   "metadata": {},
   "outputs": [
    {
     "name": "stdout",
     "output_type": "stream",
     "text": [
      "{'bob': 1}\n",
      "1\n"
     ]
    }
   ],
   "source": [
    "print(new_dictionary['key_for_another_dictionary'])\n",
    "print(new_dictionary['key_for_another_dictionary']['bob'])"
   ]
  },
  {
   "cell_type": "code",
   "execution_count": 25,
   "metadata": {},
   "outputs": [
    {
     "name": "stdout",
     "output_type": "stream",
     "text": [
      "{1914: ['Red Sox', 5, 10, 0], 1915: ['Red Sox', 43, 104, 4]}\n",
      "['Red Sox', 5, 10, 0]\n"
     ]
    }
   ],
   "source": [
    "# Example with some baseball stats!\n",
    "# Let's assume a format like [Team, Games, Plate Apperance, Home Runs]\n",
    "career_stats = {'babe_ruth': {1914: [\"Red Sox\", 5, 10, 0], 1915:['Red Sox', 43, 104, 4]},\n",
    "                'gavvy_cravath': {1914: ['Phillies',149,604,14]}} # Yes, that's a real baseball player's name\n",
    "print(career_stats['babe_ruth'])\n",
    "print(career_stats['babe_ruth'][1914])"
   ]
  },
  {
   "cell_type": "raw",
   "metadata": {},
   "source": [
    "Note that I was able to use an integer as a key. Any object that's immutable can be used as a key. So that means we can't use lists as keys, but we can use tuples. "
   ]
  },
  {
   "cell_type": "code",
   "execution_count": 26,
   "metadata": {},
   "outputs": [
    {
     "name": "stdout",
     "output_type": "stream",
     "text": [
      "babe_ruth {1914: ['Red Sox', 5, 10, 0], 1915: ['Red Sox', 43, 104, 4]}\n",
      "gavvy_cravath {1914: ['Phillies', 149, 604, 14]}\n",
      "('a', 'new', 'player') ['Reds', 12, 34, 8]\n"
     ]
    }
   ],
   "source": [
    "# New entry using a tuple\n",
    "career_stats[('a','new','player')] = ['Reds',12, 34, 8]\n",
    "\n",
    "for key, val in career_stats.items(): #items allows us to access each key-value pair\n",
    "    print(key, val)"
   ]
  },
  {
   "cell_type": "code",
   "execution_count": 27,
   "metadata": {},
   "outputs": [
    {
     "name": "stdout",
     "output_type": "stream",
     "text": [
      "dict_keys(['babe_ruth', 'gavvy_cravath', ('a', 'new', 'player')])\n",
      "dict_values([{1914: ['Red Sox', 5, 10, 0], 1915: ['Red Sox', 43, 104, 4]}, {1914: ['Phillies', 149, 604, 14]}, ['Reds', 12, 34, 8]])\n"
     ]
    }
   ],
   "source": [
    "# We can also access just the keys or just the values with the proper methods\n",
    "print(career_stats.keys())\n",
    "print(career_stats.values())"
   ]
  },
  {
   "cell_type": "code",
   "execution_count": 28,
   "metadata": {},
   "outputs": [
    {
     "ename": "TypeError",
     "evalue": "unhashable type: 'list'",
     "output_type": "error",
     "traceback": [
      "\u001b[0;31m---------------------------------------------------------------------------\u001b[0m",
      "\u001b[0;31mTypeError\u001b[0m                                 Traceback (most recent call last)",
      "\u001b[0;32m<ipython-input-28-c04fa3cc6da6>\u001b[0m in \u001b[0;36m<module>\u001b[0;34m\u001b[0m\n\u001b[1;32m      1\u001b[0m \u001b[0;31m# New entry with a list\u001b[0m\u001b[0;34m\u001b[0m\u001b[0;34m\u001b[0m\u001b[0;34m\u001b[0m\u001b[0m\n\u001b[0;32m----> 2\u001b[0;31m \u001b[0mcareer_stats\u001b[0m\u001b[0;34m[\u001b[0m\u001b[0;34m[\u001b[0m\u001b[0;34m'a'\u001b[0m\u001b[0;34m,\u001b[0m\u001b[0;34m'new'\u001b[0m\u001b[0;34m,\u001b[0m\u001b[0;34m'player'\u001b[0m\u001b[0;34m]\u001b[0m\u001b[0;34m]\u001b[0m \u001b[0;34m=\u001b[0m \u001b[0;34m[\u001b[0m\u001b[0;34m'Reds'\u001b[0m\u001b[0;34m,\u001b[0m\u001b[0;36m12\u001b[0m\u001b[0;34m,\u001b[0m \u001b[0;36m34\u001b[0m\u001b[0;34m,\u001b[0m \u001b[0;36m8\u001b[0m\u001b[0;34m]\u001b[0m\u001b[0;34m\u001b[0m\u001b[0;34m\u001b[0m\u001b[0m\n\u001b[0m",
      "\u001b[0;31mTypeError\u001b[0m: unhashable type: 'list'"
     ]
    }
   ],
   "source": [
    "# New entry with a list\n",
    "career_stats[['a','new','player']] = ['Reds',12, 34, 8]"
   ]
  },
  {
   "cell_type": "markdown",
   "metadata": {},
   "source": [
    "**Following Pythonic Code Style**"
   ]
  },
  {
   "cell_type": "code",
   "execution_count": 29,
   "metadata": {},
   "outputs": [
    {
     "name": "stdout",
     "output_type": "stream",
     "text": [
      "The Zen of Python, by Tim Peters\n",
      "\n",
      "Beautiful is better than ugly.\n",
      "Explicit is better than implicit.\n",
      "Simple is better than complex.\n",
      "Complex is better than complicated.\n",
      "Flat is better than nested.\n",
      "Sparse is better than dense.\n",
      "Readability counts.\n",
      "Special cases aren't special enough to break the rules.\n",
      "Although practicality beats purity.\n",
      "Errors should never pass silently.\n",
      "Unless explicitly silenced.\n",
      "In the face of ambiguity, refuse the temptation to guess.\n",
      "There should be one-- and preferably only one --obvious way to do it.\n",
      "Although that way may not be obvious at first unless you're Dutch.\n",
      "Now is better than never.\n",
      "Although never is often better than *right* now.\n",
      "If the implementation is hard to explain, it's a bad idea.\n",
      "If the implementation is easy to explain, it may be a good idea.\n",
      "Namespaces are one honking great idea -- let's do more of those!\n"
     ]
    }
   ],
   "source": [
    "import this"
   ]
  },
  {
   "cell_type": "markdown",
   "metadata": {},
   "source": [
    "Code is for people. 95% of the time it's not running. Write your code so that it can be read. Executing is 'secondary'. Your future self will thank you while debugging. A super clever solution that is only one line long, but no one can quickly debug is worse than a five line solution that everyone understands.\n",
    "\n",
    "**The correct order of code development (in a nutshell)**\n",
    "\n",
    "Make it work\n",
    "Make it right\n",
    "Make it readable\n",
    "Make it fast (you rarely get to do this part)\n",
    "\"Premature optimization of code is the root of all evil.\"\n",
    "\n",
    "Donald Knuth (Famous Computer Scientist)"
   ]
  },
  {
   "cell_type": "markdown",
   "metadata": {},
   "source": [
    "**Functions**"
   ]
  },
  {
   "cell_type": "code",
   "execution_count": 30,
   "metadata": {},
   "outputs": [
    {
     "name": "stdout",
     "output_type": "stream",
     "text": [
      "{'Sam': 3, 'Carol': 2, 'Doug': 2, 'Oliver': 1, 'Tari': 2}\n"
     ]
    }
   ],
   "source": [
    "table1 = [['Sam', 36, 85.95],\n",
    " ['Carol', 75, 53.65],\n",
    " ['Sam', 90, 95.37],\n",
    " ['Doug', 61, 19.8],\n",
    " ['Sam', 41, 45.22],\n",
    " ['Doug', 29, 42.98],\n",
    " ['Oliver', 61, 95.74],\n",
    " ['Carol', 32, 17.12],\n",
    " ['Tari', 27, 68.83],\n",
    " ['Tari', 81, 62.47]]\n",
    "\n",
    "name_counter = {}\n",
    "for row in table1:\n",
    "    name = row[0]\n",
    "    if name in name_counter.keys():\n",
    "        name_counter[name] += 1\n",
    "    else:\n",
    "        name_counter[name] = 1\n",
    "print(name_counter)"
   ]
  },
  {
   "cell_type": "code",
   "execution_count": 31,
   "metadata": {},
   "outputs": [
    {
     "name": "stdout",
     "output_type": "stream",
     "text": [
      "{'Sam': 3, 'Carol': 2, 'Doug': 2, 'Oliver': 1, 'Tari': 2}\n"
     ]
    }
   ],
   "source": [
    "# make it a function\n",
    "def count_names_in_tables(table_to_count):\n",
    "    \"\"\"\n",
    "    Takes in a table of data, where the first (0th) column\n",
    "    is the name of the user, and counts how many time each\n",
    "    user appears.\n",
    "    ---\n",
    "    Inputs: table (list of lists or array)\n",
    "    Outputs: Dictionary (keys are names, values are counts)\n",
    "    \"\"\"\n",
    "    name_counter = {}\n",
    "    for row in table_to_count:\n",
    "        name = row[0]\n",
    "        if name in name_counter.keys():\n",
    "            name_counter[name] += 1\n",
    "        else:\n",
    "            name_counter[name] = 1\n",
    "    return name_counter\n",
    "\n",
    "print(count_names_in_tables(table1))"
   ]
  },
  {
   "cell_type": "code",
   "execution_count": 32,
   "metadata": {},
   "outputs": [
    {
     "name": "stdout",
     "output_type": "stream",
     "text": [
      "{'Oliver': 1, 'Tari': 3, 'Carol': 4, 'Kelly': 1, 'Sam': 1}\n"
     ]
    }
   ],
   "source": [
    "table2 = [['Oliver', 12, 49.95],\n",
    " ['Tari', 76, 30.71],\n",
    " ['Carol', 98, 25.07],\n",
    " ['Carol', 24, 11.85],\n",
    " ['Carol', 34, 13.36],\n",
    " ['Kelly', 14, 34.31],\n",
    " ['Tari', 6, 86.11],\n",
    " ['Tari', 90, 29.08],\n",
    " ['Carol', 55, 45.61],\n",
    " ['Sam', 88, 97.47]]\n",
    "\n",
    "print(count_names_in_tables(table2))"
   ]
  },
  {
   "cell_type": "code",
   "execution_count": 42,
   "metadata": {},
   "outputs": [],
   "source": [
    "f=list('catc')"
   ]
  },
  {
   "cell_type": "code",
   "execution_count": 43,
   "metadata": {},
   "outputs": [
    {
     "data": {
      "text/plain": [
       "0"
      ]
     },
     "execution_count": 43,
     "metadata": {},
     "output_type": "execute_result"
    }
   ],
   "source": [
    "f.index('c')"
   ]
  },
  {
   "cell_type": "code",
   "execution_count": 44,
   "metadata": {},
   "outputs": [
    {
     "data": {
      "text/plain": [
       "'c'"
      ]
     },
     "execution_count": 44,
     "metadata": {},
     "output_type": "execute_result"
    }
   ],
   "source": [
    "f.pop()"
   ]
  },
  {
   "cell_type": "code",
   "execution_count": 45,
   "metadata": {},
   "outputs": [
    {
     "data": {
      "text/plain": [
       "True"
      ]
     },
     "execution_count": 45,
     "metadata": {},
     "output_type": "execute_result"
    }
   ],
   "source": [
    "'cat'=='cat'"
   ]
  },
  {
   "cell_type": "code",
   "execution_count": 46,
   "metadata": {},
   "outputs": [],
   "source": [
    "number_list = [3, 7, 10, -2]"
   ]
  },
  {
   "cell_type": "code",
   "execution_count": 47,
   "metadata": {},
   "outputs": [],
   "source": [
    "number_list.append([1,2])"
   ]
  },
  {
   "cell_type": "code",
   "execution_count": 48,
   "metadata": {},
   "outputs": [
    {
     "data": {
      "text/plain": [
       "[3, 7, 10, -2, [1, 2]]"
      ]
     },
     "execution_count": 48,
     "metadata": {},
     "output_type": "execute_result"
    }
   ],
   "source": [
    "number_list"
   ]
  },
  {
   "cell_type": "code",
   "execution_count": 49,
   "metadata": {},
   "outputs": [],
   "source": [
    "a = {3,4,1}"
   ]
  },
  {
   "cell_type": "code",
   "execution_count": 50,
   "metadata": {},
   "outputs": [
    {
     "ename": "TypeError",
     "evalue": "'set' object does not support indexing",
     "output_type": "error",
     "traceback": [
      "\u001b[0;31m---------------------------------------------------------------------------\u001b[0m",
      "\u001b[0;31mTypeError\u001b[0m                                 Traceback (most recent call last)",
      "\u001b[0;32m<ipython-input-50-6a1284577a36>\u001b[0m in \u001b[0;36m<module>\u001b[0;34m\u001b[0m\n\u001b[0;32m----> 1\u001b[0;31m \u001b[0ma\u001b[0m\u001b[0;34m[\u001b[0m\u001b[0;36m0\u001b[0m\u001b[0;34m]\u001b[0m\u001b[0;34m\u001b[0m\u001b[0;34m\u001b[0m\u001b[0m\n\u001b[0m",
      "\u001b[0;31mTypeError\u001b[0m: 'set' object does not support indexing"
     ]
    }
   ],
   "source": [
    "a[0]"
   ]
  },
  {
   "cell_type": "code",
   "execution_count": 51,
   "metadata": {},
   "outputs": [
    {
     "data": {
      "text/plain": [
       "\"['a', 'b', 'c']\""
      ]
     },
     "execution_count": 51,
     "metadata": {},
     "output_type": "execute_result"
    }
   ],
   "source": [
    "str(['a','b','c'])"
   ]
  },
  {
   "cell_type": "code",
   "execution_count": 52,
   "metadata": {},
   "outputs": [
    {
     "data": {
      "text/plain": [
       "dict"
      ]
     },
     "execution_count": 52,
     "metadata": {},
     "output_type": "execute_result"
    }
   ],
   "source": [
    "type({})"
   ]
  },
  {
   "cell_type": "code",
   "execution_count": 53,
   "metadata": {},
   "outputs": [],
   "source": [
    "from collections import defaultdict"
   ]
  },
  {
   "cell_type": "code",
   "execution_count": 54,
   "metadata": {},
   "outputs": [],
   "source": [
    "f = defaultdict(int)"
   ]
  },
  {
   "cell_type": "code",
   "execution_count": 55,
   "metadata": {},
   "outputs": [
    {
     "data": {
      "text/plain": [
       "0"
      ]
     },
     "execution_count": 55,
     "metadata": {},
     "output_type": "execute_result"
    }
   ],
   "source": [
    "f['foo']"
   ]
  },
  {
   "cell_type": "code",
   "execution_count": 56,
   "metadata": {},
   "outputs": [],
   "source": [
    "g = ['ttt', 'h', ['a','b'],'c']\n",
    "h = g"
   ]
  },
  {
   "cell_type": "code",
   "execution_count": 57,
   "metadata": {},
   "outputs": [],
   "source": [
    "g[0]='ggg'\n",
    "g[2][0] = 'q'"
   ]
  },
  {
   "cell_type": "code",
   "execution_count": 58,
   "metadata": {},
   "outputs": [
    {
     "data": {
      "text/plain": [
       "['ggg', 'h', ['q', 'b'], 'c']"
      ]
     },
     "execution_count": 58,
     "metadata": {},
     "output_type": "execute_result"
    }
   ],
   "source": [
    "h"
   ]
  },
  {
   "cell_type": "code",
   "execution_count": 59,
   "metadata": {},
   "outputs": [
    {
     "data": {
      "text/plain": [
       "['ggg', 'h', ['q', 'b'], 'c']"
      ]
     },
     "execution_count": 59,
     "metadata": {},
     "output_type": "execute_result"
    }
   ],
   "source": [
    "g"
   ]
  },
  {
   "cell_type": "code",
   "execution_count": null,
   "metadata": {},
   "outputs": [],
   "source": []
  }
 ],
 "metadata": {
  "kernelspec": {
   "display_name": "Python 3",
   "language": "python",
   "name": "python3"
  },
  "language_info": {
   "codemirror_mode": {
    "name": "ipython",
    "version": 3
   },
   "file_extension": ".py",
   "mimetype": "text/x-python",
   "name": "python",
   "nbconvert_exporter": "python",
   "pygments_lexer": "ipython3",
   "version": "3.6.10"
  }
 },
 "nbformat": 4,
 "nbformat_minor": 2
}
